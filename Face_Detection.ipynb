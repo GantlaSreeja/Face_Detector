{
 "cells": [
  {
   "cell_type": "code",
   "execution_count": null,
   "id": "80791906",
   "metadata": {},
   "outputs": [],
   "source": [
    "import cv2 \n",
    "#load the cascade\n",
    "face_cascade=cv2.CascadeClassifier('haarcascade_frontalface_default.xml')\n",
    "\n",
    "#turn on the webcam\n",
    "cap=cv2.VideoCapture(0)\n",
    "\n",
    "while True:\n",
    "    # Read the Frame\n",
    "    check,img=cap.read()\n",
    "    #convert into grayscale\n",
    "    gray=cv2.cvtColor(img, cv2.COLOR_BGR2GRAY)\n",
    "    faces=face_cascade.detectMultiScale(gray,1.1,15)\n",
    "    #Draw the rectangle\n",
    "    for(x,y,w,h) in faces:\n",
    "        cv2.rectangle(img,(x,y),(x+w,y+h),(255,0,0),2)\n",
    "    #Display\n",
    "    cv2.imshow('Sreeja',img)\n",
    "    #Stop the loop\n",
    "    key=cv2.waitKey(1)\n",
    "    if key==ord('k'):\n",
    "        break\n",
    "# Release the windows\n",
    "cap.release()\n",
    "cv2.destroyALLWindows()"
   ]
  },
  {
   "cell_type": "code",
   "execution_count": null,
   "id": "3a1e5fa0",
   "metadata": {},
   "outputs": [],
   "source": []
  }
 ],
 "metadata": {
  "kernelspec": {
   "display_name": "Python 3",
   "language": "python",
   "name": "python3"
  },
  "language_info": {
   "codemirror_mode": {
    "name": "ipython",
    "version": 3
   },
   "file_extension": ".py",
   "mimetype": "text/x-python",
   "name": "python",
   "nbconvert_exporter": "python",
   "pygments_lexer": "ipython3",
   "version": "3.8.8"
  }
 },
 "nbformat": 4,
 "nbformat_minor": 5
}
